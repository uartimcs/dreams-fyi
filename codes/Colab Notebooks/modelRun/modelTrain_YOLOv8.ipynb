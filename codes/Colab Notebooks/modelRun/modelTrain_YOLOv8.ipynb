{
  "nbformat": 4,
  "nbformat_minor": 0,
  "metadata": {
    "colab": {
      "provenance": [],
      "gpuType": "T4"
    },
    "kernelspec": {
      "name": "python3",
      "display_name": "Python 3"
    },
    "language_info": {
      "name": "python"
    },
    "accelerator": "GPU"
  },
  "cells": [
    {
      "cell_type": "code",
      "execution_count": null,
      "metadata": {
        "id": "3NS96ENtmcju"
      },
      "outputs": [],
      "source": [
        "!nvidia-smi"
      ]
    },
    {
      "cell_type": "code",
      "source": [
        "!pip install ultralytics\n",
        "!pip install roboflow"
      ],
      "metadata": {
        "id": "2we-fGfbmxN8"
      },
      "execution_count": null,
      "outputs": []
    },
    {
      "cell_type": "code",
      "source": [
        "!pip install roboflow\n",
        "from roboflow import Roboflow\n",
        "rf = Roboflow(api_key=\"EX8AhvA9duVcPdal2rrz\")\n",
        "project = rf.workspace(\"uartimcsfyp\").project(\"dreams-lekvp\")\n",
        "dataset = project.version(2).download(\"yolov8\")"
      ],
      "metadata": {
        "id": "uSpzxM4npRft"
      },
      "execution_count": null,
      "outputs": []
    },
    {
      "cell_type": "code",
      "source": [
        "print(dataset.location)"
      ],
      "metadata": {
        "id": "QKJZmGM3qT91"
      },
      "execution_count": null,
      "outputs": []
    },
    {
      "cell_type": "markdown",
      "metadata": {
        "id": "5sriM1lGZySH"
      },
      "source": [
        "**Please amend the data.yaml as follows before training**\n",
        "> test: test/images\n",
        "\n",
        "> train: train/images\n",
        "\n",
        "> val: valid/images\n",
        "\n",
        "\n",
        "\n",
        "\n"
      ]
    },
    {
      "cell_type": "code",
      "source": [
        "!yolo task=detect \\\n",
        "mode=train \\\n",
        "model=yolov8s.pt \\\n",
        "data={dataset.location}/data.yaml \\\n",
        "epochs=300 \\\n",
        "imgsz=640"
      ],
      "metadata": {
        "id": "qA0iK1smqtP2"
      },
      "execution_count": null,
      "outputs": []
    },
    {
      "cell_type": "code",
      "source": [
        "!zip -r result_stat.zip ./runs"
      ],
      "metadata": {
        "id": "ffoTa26urkOj"
      },
      "execution_count": null,
      "outputs": []
    }
  ]
}