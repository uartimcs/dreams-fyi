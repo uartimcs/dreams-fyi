{
  "nbformat": 4,
  "nbformat_minor": 0,
  "metadata": {
    "colab": {
      "provenance": []
    },
    "kernelspec": {
      "name": "python3",
      "display_name": "Python 3"
    },
    "language_info": {
      "name": "python"
    }
  },
  "cells": [
    {
      "cell_type": "code",
      "execution_count": null,
      "metadata": {
        "id": "gcvnqzWUuIP_"
      },
      "outputs": [],
      "source": [
        "!nvidia-smi"
      ]
    },
    {
      "cell_type": "code",
      "source": [
        "!pip install ultralytics"
      ],
      "metadata": {
        "id": "rFwpabJOuOFl"
      },
      "execution_count": null,
      "outputs": []
    },
    {
      "cell_type": "code",
      "source": [
        "import os\n",
        "import numpy as np\n",
        "import pandas as pd\n",
        "import glob\n",
        "from ultralytics import YOLO\n",
        "from PIL import Image"
      ],
      "metadata": {
        "id": "1v1SWnequQDz"
      },
      "execution_count": null,
      "outputs": []
    },
    {
      "cell_type": "markdown",
      "source": [
        "**Test one sample only**"
      ],
      "metadata": {
        "id": "VxhKPmtkuVgi"
      }
    },
    {
      "cell_type": "code",
      "source": [
        "# !yolo detect predict model=best.pt source='./download.png'"
      ],
      "metadata": {
        "id": "Y80edA0gvFwf"
      },
      "execution_count": null,
      "outputs": []
    },
    {
      "cell_type": "code",
      "source": [
        "model = YOLO('best.pt')\n",
        "results = model('download.png')\n",
        "\n",
        "for r in results:\n",
        "    im_array = r.plot()\n",
        "    im = Image.fromarray(im_array[..., ::-1])\n",
        "    im.show()\n",
        "    im.save('download_result.png')"
      ],
      "metadata": {
        "id": "CoHV__DPuYnA"
      },
      "execution_count": null,
      "outputs": []
    },
    {
      "cell_type": "markdown",
      "source": [
        "**Test multiple models with multiple samples**"
      ],
      "metadata": {
        "id": "ilOhdBJQwOjD"
      }
    },
    {
      "cell_type": "code",
      "source": [
        "MODEL_PATH = \"./Models/\"\n",
        "IMAGE_PATH = \"./IMAGES/\"\n",
        "!mkdir Models IMAGES"
      ],
      "metadata": {
        "id": "EJiKqxLawgDn"
      },
      "execution_count": null,
      "outputs": []
    },
    {
      "cell_type": "code",
      "source": [
        "# Show the current model list and images\n",
        "model_list = list(filter(lambda x: x.endswith('.pt'), os.listdir(MODEL_PATH)))\n",
        "model_list.sort()\n",
        "image_list = os.listdir(IMAGE_PATH)\n",
        "print(f'Models: {model_list}')\n",
        "print(f'Images: {image_list}')\n",
        "\n",
        "table_result = []\n",
        "# Function to run all available models.\n",
        "def model_run(im):\n",
        "  for test_model in model_list:\n",
        "    test_model_path = os.path.join(MODEL_PATH, test_model)\n",
        "    running_model = YOLO(test_model_path)\n",
        "    detect_result = running_model(im)\n",
        "\n",
        "    for r in detect_result:\n",
        "      result_dict = {\"Model\":test_model, \"File name\": im, \"predicted\":r.boxes.cls.tolist(), \"result\":r.boxes.conf.tolist()}\n",
        "      print(result_dict)\n",
        "      table_result.append(result_dict)\n",
        "  print(\"=========================================================================================\")"
      ],
      "metadata": {
        "id": "ISO9xZoVwTIJ"
      },
      "execution_count": null,
      "outputs": []
    },
    {
      "cell_type": "code",
      "source": [
        "for root, dirs, files in os.walk(IMAGE_PATH, topdown=False):\n",
        "  for name in files:\n",
        "      im_path = os.path.join(root, name)\n",
        "      model_run(im_path)"
      ],
      "metadata": {
        "id": "h9xIEj63xa0P"
      },
      "execution_count": null,
      "outputs": []
    },
    {
      "cell_type": "code",
      "source": [
        "!rm -r ./IMAGES/*.*"
      ],
      "metadata": {
        "id": "XjJ3x0w50Kj4"
      },
      "execution_count": null,
      "outputs": []
    }
  ]
}