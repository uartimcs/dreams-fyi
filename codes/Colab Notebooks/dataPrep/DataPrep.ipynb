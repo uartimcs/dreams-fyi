{
  "nbformat": 4,
  "nbformat_minor": 0,
  "metadata": {
    "colab": {
      "provenance": []
    },
    "kernelspec": {
      "name": "python3",
      "display_name": "Python 3"
    },
    "language_info": {
      "name": "python"
    }
  },
  "cells": [
    {
      "cell_type": "code",
      "execution_count": null,
      "metadata": {
        "id": "LQ-Ayb5ta69O"
      },
      "outputs": [],
      "source": [
        "# Choose Google T4 GPU to run\n",
        "!nvidia-smi"
      ]
    },
    {
      "cell_type": "code",
      "source": [
        "# Get the latest update of Ubuntu Runtime\n",
        "!sudo apt-get update\n",
        "\n",
        "# Install poppler-utils in PATH\n",
        "!sudo apt-get install poppler-utils\n",
        "\n",
        "# Install modules for pdf conversion\n",
        "!pip install pdf2image"
      ],
      "metadata": {
        "id": "initiVtlbJlg"
      },
      "execution_count": null,
      "outputs": []
    },
    {
      "cell_type": "code",
      "source": [
        "# Link to Google Drive if you want persistent storage\n",
        "# from google.colab import drive\n",
        "# drive.mount('/content/drive')\n",
        "# %cd \"/content/drive/MyDrive/Colab Notebooks\""
      ],
      "metadata": {
        "id": "muAyCo7qcJIE"
      },
      "execution_count": null,
      "outputs": []
    },
    {
      "cell_type": "code",
      "source": [
        "# Create all necessary folders\n",
        "%mkdir INPUT_PDF OUTPUT_JPG IMAGE_BEFORE IMAGE_AFTER\n",
        "%ls -ls"
      ],
      "metadata": {
        "id": "tnjT78XcbKF0"
      },
      "execution_count": null,
      "outputs": []
    },
    {
      "cell_type": "markdown",
      "metadata": {
        "id": "gKB7pUXe9PNR"
      },
      "source": [
        "# Section A: Conversion of PDF to JPEG"
      ]
    },
    {
      "cell_type": "code",
      "source": [
        "import os\n",
        "from pdf2image import convert_from_path"
      ],
      "metadata": {
        "id": "nuqZDcFEbnvv"
      },
      "execution_count": null,
      "outputs": []
    },
    {
      "cell_type": "code",
      "source": [
        "PDF_LOCATION = './INPUT_PDF'\n",
        "JPG_LOCATION = './OUTPUT_JPG'\n",
        "\n",
        "source_dir_exist = os.path.exists(PDF_LOCATION)\n",
        "dest_dir_exist = os.path.exists(JPG_LOCATION)\n",
        "\n",
        "if not source_dir_exist:\n",
        "\tprint(f'The PDF input storage folder {PDF_LOCATION} does not exist. Create a new folder for you.')\n",
        "\tos.makedirs(PDF_LOCATION)\n",
        "\n",
        "if not source_dir_exist:\n",
        "\tprint(f'The JPG output storage folder {JPG_LOCATION} does not exist. Create a new folder for you.')\n",
        "\tos.makedirs(JPG_LOCATION)\n",
        "\n",
        "print(f'Folders {PDF_LOCATION} and {JPG_LOCATION} are ready. Please place the pdf files under {PDF_LOCATION}')"
      ],
      "metadata": {
        "id": "j48euv_kby8y"
      },
      "execution_count": null,
      "outputs": []
    },
    {
      "cell_type": "code",
      "source": [
        "DEFAULT_PAGE = 1\n",
        "file_doc_list = os.listdir(PDF_LOCATION)\n",
        "print(f'Currently the folder {PDF_LOCATION} contains {len(file_doc_list)} files.')\n",
        "print(f'Please place pdf files that you want to convert under {PDF_LOCATION}.')\n",
        "file_doc_list.sort()\n",
        "\n",
        "for doc_x in file_doc_list:\n",
        "\tif doc_x.endswith(\"pdf\"):\n",
        "\t\tpages = convert_from_path(os.path.join(PDF_LOCATION, doc_x))\n",
        "\t\t# DEFAULT_PAGE = len(pages)\n",
        "\t\tprint(f'The PDF file {doc_x} contains {len(pages)} page(s). Only the first {DEFAULT_PAGE} will be extracted.')\n",
        "\t\tfor i in range(0, DEFAULT_PAGE):\n",
        "\t\t\tdoc_name = doc_x.split('.')[0] + \"_\" + str(i+1) + \".jpg\"\n",
        "\t\t\tdest_path = os.path.join(JPG_LOCATION, doc_name)\n",
        "\t\t\tpages[i].save(dest_path)\n",
        "\t\t\tprint(f'The {i+1} page of the PDF document {doc_x} has been coverted to {doc_name} and saved at {dest_path}')\n",
        "\n",
        "print(f'The conversion has completed.')"
      ],
      "metadata": {
        "id": "fohB4kfofZv0"
      },
      "execution_count": null,
      "outputs": []
    },
    {
      "cell_type": "code",
      "source": [
        "# Zip the outputs as outputs.zip. Refresh and download the zip file since data is not persistent.\n",
        "!zip -r im_outputs.zip ./OUTPUT_JPG"
      ],
      "metadata": {
        "id": "zihoH_GCgdeo"
      },
      "execution_count": null,
      "outputs": []
    },
    {
      "cell_type": "markdown",
      "metadata": {
        "id": "6LNUyjQ59Z_D"
      },
      "source": [
        "# Section B: Image augmentation"
      ]
    },
    {
      "cell_type": "code",
      "source": [
        "# Use this command for\n",
        "# Fully copy of images from OUTPUT_JPG -> IMAGE_BEFORE\n",
        "# !cp ./OUTPUT_JPG/*.*  ./IMAGE_BEFORE\n",
        "%pwd"
      ],
      "metadata": {
        "id": "H112Z9FfhenY"
      },
      "execution_count": null,
      "outputs": []
    },
    {
      "cell_type": "code",
      "source": [
        "import cv2\n",
        "import os"
      ],
      "metadata": {
        "id": "ra75wWTNhW2o"
      },
      "execution_count": null,
      "outputs": []
    },
    {
      "cell_type": "code",
      "source": [
        "IMAGE_BEFORE_LOCATION = './IMAGE_BEFORE'\n",
        "IMAGE_AFTER_LOCATION = './IMAGE_AFTER'\n",
        "\n",
        "# Check existence of folders under current directory\n",
        "before_dir_exist = os.path.exists(IMAGE_BEFORE_LOCATION)\n",
        "after_dir_exist = os.path.exists(IMAGE_AFTER_LOCATION)\n",
        "\n",
        "if not before_dir_exist:\n",
        "\tprint(f'The JPG / PNG input storage folder {IMAGE_BEFORE_LOCATION} does not exist. Create a new folder for you.')\n",
        "\tos.makedirs(IMAGE_BEFORE_LOCATION)\n",
        "if not after_dir_exist:\n",
        "\tprint(f'The augmented JPG / PNG output storage folder {IMAGE_AFTER_LOCATION} does not exist. Create a new folder for you.')\n",
        "\tos.makedirs(IMAGE_AFTER_LOCATION)\n",
        "print(f'Folders {IMAGE_BEFORE_LOCATION} and {IMAGE_AFTER_LOCATION} are ready. Please place the JPG / PNG image files under {IMAGE_BEFORE_LOCATION}')\n"
      ],
      "metadata": {
        "id": "PbBZxh-UhXw8"
      },
      "execution_count": null,
      "outputs": []
    },
    {
      "cell_type": "code",
      "source": [
        "im_list = os.listdir(IMAGE_BEFORE_LOCATION)\n",
        "im_list.sort()\n",
        "print(f'Currently the folder {IMAGE_BEFORE_LOCATION} contains {len(im_list)} files.')\n",
        "print(f'Please place the JPG / PNG image files that you want to convert under {IMAGE_BEFORE_LOCATION}.')\n",
        "\n",
        "\n",
        "def augmentation_task(im):\n",
        "\tim_location = os.path.join(IMAGE_BEFORE_LOCATION, im)\n",
        "\tim_details = cv2.imread(im_location)\n",
        "\n",
        "\tscale_percent = 50\n",
        "\twidth = int(im_details.shape[1] * scale_percent / 100)\n",
        "\theight = int(im_details.shape[0] * scale_percent / 100)\n",
        "\tim_dim = (width, height)\n",
        "\taction_dict = {\n",
        "\t\t0: cv2.GaussianBlur(im_details, (5, 5), 0),\n",
        "\t\t1: cv2.GaussianBlur(im_details, (7, 7), 0),\n",
        "\t\t2: cv2.GaussianBlur(im_details, (9, 9), 0),\n",
        "\t\t3: cv2.cvtColor(im_details, cv2.COLOR_BGR2GRAY),\n",
        "\t\t4: cv2.resize(im_details, im_dim, interpolation = cv2.INTER_AREA)\n",
        "\t}\n",
        "\taction_str = {0:\"blur1\", 1:\"blur2\", 2:\"blur3\",3:\"gray\", 4:\"resize\"}\n",
        "\tkey_list = list(action_dict.keys())\n",
        "\n",
        "\tfor num in key_list:\n",
        "\t\tnew_im_name = im.split(\".\")[0] + \"_\" + action_str[num] + \".\" + im.split(\".\")[-1]\n",
        "\t\tfinal_path = os.path.join(IMAGE_AFTER_LOCATION, new_im_name)\n",
        "\t\tcv2.imwrite(final_path, action_dict[num])\n",
        "\t\tprint(f'The augmented image of {im} : {new_im_name} is created and saved at {final_path}')\n",
        "\n",
        "def rotation_task(im):\n",
        "\tim_location = os.path.join(IMAGE_AFTER_LOCATION, im)\n",
        "\tim_details = cv2.imread(im_location)\n",
        "\n",
        "\trotation_action_dict = {\n",
        "\t0: cv2.rotate(im_details, cv2.ROTATE_90_CLOCKWISE),\n",
        "\t1: cv2.rotate(im_details, cv2.ROTATE_180),\n",
        "\t2: cv2.rotate(im_details, cv2.ROTATE_90_COUNTERCLOCKWISE)\n",
        "\t}\n",
        "\trotate_str = {0: '090', 1:'180', 2:'270'}\n",
        "\trotation_key_list = list(rotation_action_dict.keys())\n",
        "\n",
        "\tfor num in rotation_key_list:\n",
        "\t\tnew_im_name = im.split(\".\")[0] + \"_\" + rotate_str[num] + \".\" + im.split(\".\")[-1]\n",
        "\t\tfinal_path = os.path.join(IMAGE_AFTER_LOCATION, new_im_name)\n",
        "\t\tcv2.imwrite(final_path, rotation_action_dict[num])\n",
        "\t\tprint(f'The rotated image of {im} : {new_im_name} is created and saved at {final_path}')\n",
        "\n",
        "for im in im_list:\n",
        "\tif im.endswith('.jpg') or im.endswith('.png'):\n",
        "\t\taugmentation_task(im)\n",
        "\n",
        "rotate_choice = input('Rotate the augmented images as well? (Y/N): ')\n",
        "\n",
        "if rotate_choice == 'Y':\n",
        "\tim_after_list = os.listdir(IMAGE_AFTER_LOCATION)\n",
        "\tim_after_list.sort()\n",
        "\n",
        "\tfor im in im_after_list:\n",
        "\t\tif im.endswith('.jpg') or im.endswith('.png'):\n",
        "\t\t\trotation_task(im)"
      ],
      "metadata": {
        "id": "dLYOXvh_iHDp"
      },
      "execution_count": null,
      "outputs": []
    },
    {
      "cell_type": "code",
      "source": [
        "# Zip the outputs as outputs.zip. Refresh and download the zip file since data is not persistent.\n",
        "!zip -r aug_outputs.zip ./IMAGE_AFTER"
      ],
      "metadata": {
        "id": "EJxYqKxkiffm"
      },
      "execution_count": null,
      "outputs": []
    }
  ]
}